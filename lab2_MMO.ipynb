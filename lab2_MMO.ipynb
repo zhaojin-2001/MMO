{
  "nbformat": 4,
  "nbformat_minor": 0,
  "metadata": {
    "colab": {
      "provenance": [],
      "collapsed_sections": [
        "pcATQVzQqv59",
        "xqj28c8Pr57O",
        "pqyAkdoIwVQx",
        "u6vGQtynwaBl",
        "sh5QFlAfwdyl"
      ],
      "authorship_tag": "ABX9TyPwbPcKv+5sCqiJAG0SA2cE",
      "include_colab_link": true
    },
    "kernelspec": {
      "name": "python3",
      "display_name": "Python 3"
    },
    "language_info": {
      "name": "python"
    }
  },
  "cells": [
    {
      "cell_type": "markdown",
      "metadata": {
        "id": "view-in-github",
        "colab_type": "text"
      },
      "source": [
        "<a href=\"https://colab.research.google.com/github/zhaojin-2001/MMO/blob/main/lab2_MMO.ipynb\" target=\"_parent\"><img src=\"https://colab.research.google.com/assets/colab-badge.svg\" alt=\"Open In Colab\"/></a>"
      ]
    },
    {
      "cell_type": "markdown",
      "source": [
        "# **Экспериментальное введение и требования**"
      ],
      "metadata": {
        "id": "pcATQVzQqv59"
      }
    },
    {
      "cell_type": "markdown",
      "source": [
        "**Цель лабораторной работы:** изучение продвинутых способов предварительной обработки данных для дальнейшего формирования моделей."
      ],
      "metadata": {
        "id": "VLAOoeyPqzpn"
      }
    },
    {
      "cell_type": "markdown",
      "source": [
        "**Требования к отчету:**\n",
        "Отчет по лабораторной работе должен содержать:\n",
        "\n",
        "1.   титульный лист;\n",
        "2.   описание задания;\n",
        "3.   текст программы;\n",
        "4.   экранные формы с примерами выполнения программы."
      ],
      "metadata": {
        "id": "lrEHW2Uhq-xV"
      }
    },
    {
      "cell_type": "markdown",
      "source": [
        "**Задание:**\n",
        "1.   Выбрать набор данных (датасет), содержащий категориальные и числовые признаки и пропуски в данных. Для выполнения следующих пунктов можно использовать несколько различных наборов данных (один для обработки пропусков, другой для категориальных признаков и т.д.) Просьба не использовать датасет, на котором данная задача решалась в лекции.\n",
        "2.   Для выбранного датасета (датасетов) на основе материалов лекций решить следующие задачи:\n",
        "*   устранение пропусков в данных;\n",
        "*   кодирование категориальных признаков;\n",
        "*   нормализация числовых признаков.\n",
        "\n"
      ],
      "metadata": {
        "id": "IffjqhWirRy_"
      }
    },
    {
      "cell_type": "markdown",
      "source": [
        "# **Импорт библиотеки и загрузка набора данных**"
      ],
      "metadata": {
        "id": "xqj28c8Pr57O"
      }
    },
    {
      "cell_type": "markdown",
      "source": [
        "В этом эксперименте был выбран набор данных «Титаника», содержащий различную информацию о пассажирах, такую ​​как статус выживания (survived), категория пассажира (pclass), пол (sex), возраст (age), цена билета (fare), порт посадки (embarked) и т. д. Этот набор данных содержит как числовые, так и категориальные характеристики, а также имеет некоторые пропущенные значения, что очень подходит для нужд этого эксперимента."
      ],
      "metadata": {
        "id": "Lxer4vhVr9nF"
      }
    },
    {
      "cell_type": "markdown",
      "source": [
        "Мы использовали библиотеку Python pandas для загрузки набора данных и просмотра базовой структуры данных, включая количество строк, столбцов и типы данных каждого столбца. Мы можем понять распределение числовых характеристик с помощью описательной статистики, такой как среднее значение, стандартное отклонение, минимальное значение, максимальное значение и т. д. В то же время мы также проверили, были ли пропущенные значения в наборе данных, и подсчитали количество и долю пропущенных значений для каждого признака, чтобы обеспечить основу для последующей обработки пропущенных значений."
      ],
      "metadata": {
        "id": "f3VudhSqv2JO"
      }
    },
    {
      "cell_type": "code",
      "source": [
        "import pandas as pd\n",
        "import seaborn as sns\n",
        "from sklearn.preprocessing import StandardScaler\n",
        "\n",
        "# 使用seaborn库加载数据集\n",
        "titanic_data = sns.load_dataset('titanic')\n",
        "\n",
        "# 查看数据集基本信息\n",
        "print(\"Основная информация о наборе данных:\")\n",
        "print(titanic_data.info())\n",
        "print(\"\\nОписательная статистика набора данных:\")\n",
        "print(titanic_data.describe())\n",
        "print(\"\\nСитуация с отсутствующим значением:\")\n",
        "print(titanic_data.isnull().sum())"
      ],
      "metadata": {
        "colab": {
          "base_uri": "https://localhost:8080/"
        },
        "id": "R5JrA8kPtgtM",
        "outputId": "99eb2388-25c6-4cc4-e4bc-9b6c88bb774f"
      },
      "execution_count": 1,
      "outputs": [
        {
          "output_type": "stream",
          "name": "stdout",
          "text": [
            "Основная информация о наборе данных:\n",
            "<class 'pandas.core.frame.DataFrame'>\n",
            "RangeIndex: 891 entries, 0 to 890\n",
            "Data columns (total 15 columns):\n",
            " #   Column       Non-Null Count  Dtype   \n",
            "---  ------       --------------  -----   \n",
            " 0   survived     891 non-null    int64   \n",
            " 1   pclass       891 non-null    int64   \n",
            " 2   sex          891 non-null    object  \n",
            " 3   age          714 non-null    float64 \n",
            " 4   sibsp        891 non-null    int64   \n",
            " 5   parch        891 non-null    int64   \n",
            " 6   fare         891 non-null    float64 \n",
            " 7   embarked     889 non-null    object  \n",
            " 8   class        891 non-null    category\n",
            " 9   who          891 non-null    object  \n",
            " 10  adult_male   891 non-null    bool    \n",
            " 11  deck         203 non-null    category\n",
            " 12  embark_town  889 non-null    object  \n",
            " 13  alive        891 non-null    object  \n",
            " 14  alone        891 non-null    bool    \n",
            "dtypes: bool(2), category(2), float64(2), int64(4), object(5)\n",
            "memory usage: 80.7+ KB\n",
            "None\n",
            "\n",
            "Описательная статистика набора данных:\n",
            "         survived      pclass         age       sibsp       parch        fare\n",
            "count  891.000000  891.000000  714.000000  891.000000  891.000000  891.000000\n",
            "mean     0.383838    2.308642   29.699118    0.523008    0.381594   32.204208\n",
            "std      0.486592    0.836071   14.526497    1.102743    0.806057   49.693429\n",
            "min      0.000000    1.000000    0.420000    0.000000    0.000000    0.000000\n",
            "25%      0.000000    2.000000   20.125000    0.000000    0.000000    7.910400\n",
            "50%      0.000000    3.000000   28.000000    0.000000    0.000000   14.454200\n",
            "75%      1.000000    3.000000   38.000000    1.000000    0.000000   31.000000\n",
            "max      1.000000    3.000000   80.000000    8.000000    6.000000  512.329200\n",
            "\n",
            "Ситуация с отсутствующим значением:\n",
            "survived         0\n",
            "pclass           0\n",
            "sex              0\n",
            "age            177\n",
            "sibsp            0\n",
            "parch            0\n",
            "fare             0\n",
            "embarked         2\n",
            "class            0\n",
            "who              0\n",
            "adult_male       0\n",
            "deck           688\n",
            "embark_town      2\n",
            "alive            0\n",
            "alone            0\n",
            "dtype: int64\n"
          ]
        }
      ]
    },
    {
      "cell_type": "markdown",
      "source": [
        "# **устранение пропусков в данных**"
      ],
      "metadata": {
        "id": "pqyAkdoIwVQx"
      }
    },
    {
      "cell_type": "markdown",
      "source": [
        "В наборе данных «Титаника» три признака — age, deck и embarked — имеют отсутствующие значения. Число пропущенных значений для характеристики возраста относительно велико, в то время как число пропущенных значений для каюты и порта посадки относительно мало."
      ],
      "metadata": {
        "id": "qx2E98-fwW6w"
      }
    },
    {
      "cell_type": "markdown",
      "source": [
        "Признак “age” является числовым и имеет большое количество пропущенных значений, поэтому мы воспользуемся методом медианного заполнения. Медиана хорошо отражает возраст большинства пассажиров."
      ],
      "metadata": {
        "id": "G-oZSy37xL3E"
      }
    },
    {
      "cell_type": "code",
      "source": [
        "# 用中位数填充年龄缺失值\n",
        "age_median = titanic_data['age'].median()\n",
        "titanic_data['age'] = titanic_data['age'].fillna(age_median)"
      ],
      "metadata": {
        "id": "DTjFpPadxNto"
      },
      "execution_count": 10,
      "outputs": []
    },
    {
      "cell_type": "markdown",
      "source": [
        "“Deck” — это категориальный признак со многими пропущенными значениями, поэтому для заполнения пропущенных значений используется “Unknown”.Однако тип Categorical в Pandas ограничен, и новые категории нельзя добавлять напрямую. Поэтому мы сначала преобразуем столбец deck в обычный строковый тип (объект), а затем выполняем операцию заполнения."
      ],
      "metadata": {
        "id": "8OinPgqmzS-S"
      }
    },
    {
      "cell_type": "code",
      "source": [
        "# 将 'deck' 列从 Categorical 转换为 object 类型\n",
        "titanic_data['deck'] = titanic_data['deck'].astype(object)\n",
        "\n",
        "# 用 'Unknown' 填充 'deck' 列的缺失值\n",
        "titanic_data['deck'] = titanic_data['deck'].fillna('Unknown')"
      ],
      "metadata": {
        "id": "_p9Ie9SdzcZG"
      },
      "execution_count": 11,
      "outputs": []
    },
    {
      "cell_type": "markdown",
      "source": [
        "Порт посадки — это категориальный признак с несколькими пропущенными значениями. Из полученных данных следует, что портом посадки большинства пассажиров является «S» (Southampton), поэтому отсутствующие значения .заполняются модой «S».Для embark_town мы также используем метод большинства."
      ],
      "metadata": {
        "id": "1h58bIR00h6f"
      }
    },
    {
      "cell_type": "code",
      "source": [
        "# 用众数填充embarked和embarked_town\n",
        "titanic_data['embarked'] = titanic_data['embarked'].fillna('S')\n",
        "titanic_data['embark_town'] = titanic_data['embark_town'].fillna(titanic_data['embark_town'].mode()[0])"
      ],
      "metadata": {
        "id": "s2-M3EgN0vah"
      },
      "execution_count": 12,
      "outputs": []
    },
    {
      "cell_type": "markdown",
      "source": [
        "Давайте проверим случай пропущенных значений."
      ],
      "metadata": {
        "id": "OyzkhFCF1z9x"
      }
    },
    {
      "cell_type": "code",
      "source": [
        "# 验证缺失值处理结果\n",
        "print(titanic_data.isnull().sum())"
      ],
      "metadata": {
        "colab": {
          "base_uri": "https://localhost:8080/"
        },
        "id": "38hZ-JX310T2",
        "outputId": "7d31cd0b-6383-4c8e-b214-a11d62abd4b4"
      },
      "execution_count": 5,
      "outputs": [
        {
          "output_type": "stream",
          "name": "stdout",
          "text": [
            "survived       0\n",
            "pclass         0\n",
            "sex            0\n",
            "age            0\n",
            "sibsp          0\n",
            "parch          0\n",
            "fare           0\n",
            "embarked       0\n",
            "class          0\n",
            "who            0\n",
            "adult_male     0\n",
            "deck           0\n",
            "embark_town    0\n",
            "alive          0\n",
            "alone          0\n",
            "dtype: int64\n"
          ]
        }
      ]
    },
    {
      "cell_type": "markdown",
      "source": [
        "# **кодирование категориальных признаков**"
      ],
      "metadata": {
        "id": "u6vGQtynwaBl"
      }
    },
    {
      "cell_type": "markdown",
      "source": [
        "Признак пола имеет только два значения: мужской и женский, что является бинарной классификацией. Используйте кодировку меток, чтобы преобразовать его в числовой тип, сопоставив мужской пол с 1, а женский с 0."
      ],
      "metadata": {
        "id": "4fpK6LzQ25Nj"
      }
    },
    {
      "cell_type": "code",
      "source": [
        "titanic_data['sex'] = titanic_data['sex'].map({'male': 1, 'female': 0})"
      ],
      "metadata": {
        "id": "ONifmps_29vJ"
      },
      "execution_count": 6,
      "outputs": []
    },
    {
      "cell_type": "markdown",
      "source": [
        "Давайте посмотрим на первые несколько строк таблицы, чтобы проверить результаты кодирования категориальных признаков."
      ],
      "metadata": {
        "id": "856HITTX3aGS"
      }
    },
    {
      "cell_type": "code",
      "source": [
        "print(titanic_data.head())"
      ],
      "metadata": {
        "colab": {
          "base_uri": "https://localhost:8080/"
        },
        "id": "Ex1wHpwy3a-g",
        "outputId": "9060bcfb-4201-426d-e1d8-e5c614963533"
      },
      "execution_count": 7,
      "outputs": [
        {
          "output_type": "stream",
          "name": "stdout",
          "text": [
            "   survived  pclass  sex   age  sibsp  parch     fare embarked  class    who  \\\n",
            "0         0       3    1  22.0      1      0   7.2500        S  Third    man   \n",
            "1         1       1    0  38.0      1      0  71.2833        C  First  woman   \n",
            "2         1       3    0  26.0      0      0   7.9250        S  Third  woman   \n",
            "3         1       1    0  35.0      1      0  53.1000        S  First  woman   \n",
            "4         0       3    1  35.0      0      0   8.0500        S  Third    man   \n",
            "\n",
            "   adult_male     deck  embark_town alive  alone  \n",
            "0        True  Unknown  Southampton    no  False  \n",
            "1       False        C    Cherbourg   yes  False  \n",
            "2       False  Unknown  Southampton   yes   True  \n",
            "3       False        C  Southampton   yes  False  \n",
            "4        True  Unknown  Southampton    no   True  \n"
          ]
        }
      ]
    },
    {
      "cell_type": "markdown",
      "source": [
        "# **нормализация числовых признаков**"
      ],
      "metadata": {
        "id": "sh5QFlAfwdyl"
      }
    },
    {
      "cell_type": "markdown",
      "source": [
        "Числовые характеристики включают в себя возраст (age) и стоимость билета (fare), которые мы нормализуем с помощью метода стандартизации（Z-score normalization）. Стандартизация преобразует данные в распределение со средним значением 0 и стандартным отклонением 1."
      ],
      "metadata": {
        "id": "i2eqKdU24PC6"
      }
    },
    {
      "cell_type": "code",
      "source": [
        "from sklearn.preprocessing import StandardScaler\n",
        "scaler = StandardScaler()\n",
        "titanic_data[['age', 'fare']] = scaler.fit_transform(titanic_data[['age', 'fare']])"
      ],
      "metadata": {
        "id": "qqRNQYyH4Xb3"
      },
      "execution_count": 8,
      "outputs": []
    },
    {
      "cell_type": "markdown",
      "source": [
        "Давайте проверим нормализованные числовые характеристики."
      ],
      "metadata": {
        "id": "RWyjP5_w4i4H"
      }
    },
    {
      "cell_type": "code",
      "source": [
        "print(titanic_data[['age', 'fare']].mean())\n",
        "print(titanic_data[['age', 'fare']].std())"
      ],
      "metadata": {
        "colab": {
          "base_uri": "https://localhost:8080/"
        },
        "id": "47VEsKlB4qmi",
        "outputId": "7410526f-9b8f-4b61-c30d-3c7b90c31207"
      },
      "execution_count": 9,
      "outputs": [
        {
          "output_type": "stream",
          "name": "stdout",
          "text": [
            "age     2.272780e-16\n",
            "fare    3.987333e-18\n",
            "dtype: float64\n",
            "age     1.000562\n",
            "fare    1.000562\n",
            "dtype: float64\n"
          ]
        }
      ]
    },
    {
      "cell_type": "markdown",
      "source": [
        "Результаты показывают, что данные были преобразованы в распределение со средним значением 0 и стандартным отклонением 1."
      ],
      "metadata": {
        "id": "rR9ST7qs50gm"
      }
    }
  ]
}